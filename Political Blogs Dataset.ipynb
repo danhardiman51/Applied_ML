{
 "cells": [
  {
   "cell_type": "code",
   "execution_count": 1,
   "metadata": {},
   "outputs": [],
   "source": [
    "import numpy as np\n",
    "import matplotlib.pyplot as plt\n",
    "from sklearn.cluster import KMeans\n",
    "from scipy import sparse\n",
    "from statistics import mode"
   ]
  },
  {
   "cell_type": "code",
   "execution_count": 2,
   "metadata": {},
   "outputs": [],
   "source": [
    "with open('nodes.txt') as f:\n",
    "    nodes = f.readlines()\n",
    "\n",
    "nodes = [i.strip().split('\\t') for i in nodes]\n",
    "nodes_dict = {int(ni[0]):{'Link':ni[1], 'Label':int(ni[2]), 'Name':ni[3]} for ni in nodes}"
   ]
  },
  {
   "cell_type": "code",
   "execution_count": 3,
   "metadata": {},
   "outputs": [],
   "source": [
    "with open('edges.txt') as f:\n",
    "    edges = f.readlines()\n",
    "edges = [i.strip().split('\\t') for i in edges]\n",
    "edges = np.array(edges, dtype=int)\n",
    "\n",
    "# Remove any edges where the same node is connected to itself\n",
    "edges = edges[np.array([edges[i, 0] != edges[i,1] for i in range(edges.shape[0])]),:]\n",
    "# Remove any duplicate edges between the same two nodes since the graph should be undirected\n",
    "# Sort each edge\n",
    "for i in range(edges.shape[0]):\n",
    "    edges[i,:] = np.sort(edges[i,:])\n",
    "# Remove duplicates\n",
    "edges = np.unique([tuple(edge) for edge in edges], axis=0)"
   ]
  },
  {
   "cell_type": "code",
   "execution_count": 4,
   "metadata": {},
   "outputs": [],
   "source": [
    "# Find every unique node that is included in at least one edge\n",
    "unique_nodes = [int(item) for sublist in edges for item in sublist]\n",
    "unique_nodes.sort()\n",
    "unique_nodes = set(unique_nodes)\n",
    "# Find nodes that don't appear in any edges\n",
    "remove_nodes = []\n",
    "for n in nodes_dict.keys():\n",
    "    if n in unique_nodes:\n",
    "        continue\n",
    "    else:\n",
    "        remove_nodes.append(n)\n",
    "        \n",
    "# Remove nodes that don't appear in any edges\n",
    "for n in remove_nodes:\n",
    "    del nodes_dict[n]\n",
    "    \n",
    "# Add new value for the original index of each point\n",
    "for k,v in nodes_dict.items():\n",
    "    nodes_dict[k]['Original_Index'] = k\n",
    "\n",
    "nodes_reset = dict(enumerate(nodes_dict.values()))\n",
    "\n",
    "# Create transformed edges array\n",
    "edges_reset = np.ndarray(edges.shape, dtype=int)\n",
    "\n",
    "for i in range(edges.shape[0]):\n",
    "    n0 = [k for k,v in nodes_reset.items() if v['Original_Index'] == edges[i,0]][0]\n",
    "    n1 = [k for k,v in nodes_reset.items() if v['Original_Index'] == edges[i,1]][0]\n",
    "    edges_reset[i,0] = n0\n",
    "    edges_reset[i,1] = n1"
   ]
  },
  {
   "cell_type": "code",
   "execution_count": 5,
   "metadata": {},
   "outputs": [],
   "source": [
    "# Create adjacency matrix\n",
    "n = len(nodes_dict.keys())\n",
    "i = edges_reset[:,0]\n",
    "j = edges_reset[:,1]\n",
    "v = np.ones((edges_reset.shape[0],1)).flatten()\n",
    "\n",
    "A = sparse.coo_matrix((v, (i,j)), shape=(n,n))\n",
    "A = (A + np.transpose(A))\n",
    "A = sparse.csc_matrix.todense(A)\n",
    "\n",
    "# Calculate graph Laplacian\n",
    "#D = np.diag(np.sum(A, axis=1).A1)\n",
    "D = np.diag(1/np.sqrt(np.sum(A, axis=1)).A1)\n",
    "L = D @ A @ D\n",
    "L = np.array(L)\n",
    "\n",
    "# Perform eigen decomposition of L\n",
    "lambd, nu = np.linalg.eig(L)\n",
    "idx_sorted = np.argsort(lambd)\n",
    "\n",
    "# Keep the k eigenvectors corresponding to the k largest eigenvalues\n",
    "k = 5\n",
    "nu_k = nu[:, idx_sorted[-k:]]\n",
    "nu_k = nu_k/np.repeat(np.sqrt(np.sum(np.multiply(nu_k,nu_k), axis=1).reshape(-1,1)), k, axis=1)\n",
    "\n",
    "\n",
    "kmeans = KMeans(n_clusters=k).fit(nu_k.real)\n",
    "idx = kmeans.labels_"
   ]
  },
  {
   "cell_type": "code",
   "execution_count": 6,
   "metadata": {},
   "outputs": [
    {
     "name": "stdout",
     "output_type": "stream",
     "text": [
      "Cluster 0: 472 points, majority label 0, mismatch rate 0.021\n",
      "Cluster 1: 76 points, majority label 1, mismatch rate 0.421\n",
      "Cluster 2: 588 points, majority label 1, mismatch rate 0.026\n",
      "Cluster 3: 78 points, majority label 0, mismatch rate 0.026\n",
      "Cluster 4: 10 points, majority label 1, mismatch rate 0.3\n",
      "Total mismatch rate: 0.05065359477124187\n"
     ]
    }
   ],
   "source": [
    "# Calculate mismatch rates within each cluster for all points\n",
    "total_correct = 0\n",
    "for cluster in range(k):\n",
    "    c_points = np.argwhere(idx == cluster)\n",
    "    c_truelabels = [nodes_reset[p[0]]['Label'] for p in c_points]\n",
    "    c_majlabel = mode(c_truelabels)\n",
    "    c_mmrate = round(1 - c_truelabels.count(c_majlabel)/len(c_points),3)\n",
    "    total_correct += c_truelabels.count(c_majlabel)\n",
    "    print('Cluster {}: {} points, majority label {}, mismatch rate {}'.format(cluster, len(c_points), c_majlabel, c_mmrate))\n",
    "print('Total mismatch rate: {}'.format(1-total_correct/n))"
   ]
  },
  {
   "cell_type": "code",
   "execution_count": 7,
   "metadata": {
    "scrolled": true
   },
   "outputs": [
    {
     "name": "stdout",
     "output_type": "stream",
     "text": [
      "Total mismatch rate for k = 2: 0.4787581699346405\n",
      "Total mismatch rate for k = 3: 0.4787581699346405\n",
      "Total mismatch rate for k = 4: 0.05392156862745101\n",
      "Total mismatch rate for k = 5: 0.04738562091503273\n",
      "Total mismatch rate for k = 6: 0.05147058823529416\n",
      "Total mismatch rate for k = 7: 0.05228758169934644\n",
      "Total mismatch rate for k = 8: 0.04738562091503273\n",
      "Total mismatch rate for k = 9: 0.05718954248366015\n",
      "Total mismatch rate for k = 10: 0.06127450980392157\n",
      "Total mismatch rate for k = 11: 0.06045751633986929\n",
      "Total mismatch rate for k = 12: 0.06127450980392157\n",
      "Total mismatch rate for k = 13: 0.05555555555555558\n",
      "Total mismatch rate for k = 14: 0.054738562091503296\n",
      "Total mismatch rate for k = 15: 0.05228758169934644\n",
      "Total mismatch rate for k = 16: 0.05228758169934644\n",
      "Total mismatch rate for k = 17: 0.05555555555555558\n",
      "Total mismatch rate for k = 18: 0.06290849673202614\n",
      "Total mismatch rate for k = 19: 0.06127450980392157\n",
      "Total mismatch rate for k = 20: 0.059640522875817004\n",
      "Total mismatch rate for k = 21: 0.06290849673202614\n",
      "Total mismatch rate for k = 22: 0.06699346405228757\n",
      "Total mismatch rate for k = 23: 0.06699346405228757\n",
      "Total mismatch rate for k = 24: 0.06617647058823528\n",
      "Total mismatch rate for k = 25: 0.06454248366013071\n",
      "Total mismatch rate for k = 26: 0.06699346405228757\n",
      "Total mismatch rate for k = 27: 0.06454248366013071\n",
      "Total mismatch rate for k = 28: 0.06699346405228757\n",
      "Total mismatch rate for k = 29: 0.06699346405228757\n",
      "Total mismatch rate for k = 30: 0.06781045751633985\n",
      "Total mismatch rate for k = 31: 0.06699346405228757\n",
      "Total mismatch rate for k = 32: 0.06944444444444442\n",
      "Total mismatch rate for k = 33: 0.06781045751633985\n",
      "Total mismatch rate for k = 34: 0.06617647058823528\n",
      "Total mismatch rate for k = 35: 0.06372549019607843\n",
      "Total mismatch rate for k = 36: 0.06944444444444442\n",
      "Total mismatch rate for k = 37: 0.06372549019607843\n",
      "Total mismatch rate for k = 38: 0.06944444444444442\n",
      "Total mismatch rate for k = 39: 0.06045751633986929\n",
      "Total mismatch rate for k = 40: 0.065359477124183\n"
     ]
    }
   ],
   "source": [
    "# Iterate over k values in the range 2-40 to tune for the optimal mismatch rate\n",
    "mismatch_rates = []\n",
    "for k in range(2,41):\n",
    "    lambd, nu = np.linalg.eig(L)\n",
    "    idx_sorted = np.argsort(lambd)\n",
    "    nu_k = nu[:, idx_sorted[-k:]]\n",
    "    nu_k = nu_k/np.repeat(np.sqrt(np.sum(np.multiply(nu_k,nu_k), axis=1).reshape(-1,1)), k, axis=1)\n",
    "    kmeans = KMeans(n_clusters=k).fit(nu_k.real)\n",
    "    idx = kmeans.labels_\n",
    "    \n",
    "    total_correct = 0\n",
    "    for cluster in range(k):\n",
    "        c_points = np.argwhere(idx == cluster)\n",
    "        c_truelabels = [nodes_reset[p[0]]['Label'] for p in c_points]\n",
    "        c_majlabel = mode(c_truelabels)\n",
    "        c_mmrate = 1 - c_truelabels.count(c_majlabel)/len(c_points)\n",
    "        total_correct += c_truelabels.count(c_majlabel)\n",
    "        #print('Mismatch rate for cluster {}: {}%'.format(cluster, c_mmrate*100))\n",
    "    print('Total mismatch rate for k = {}: {}'.format(k, 1-total_correct/n))\n",
    "    mismatch_rates.append(1-total_correct/n)"
   ]
  },
  {
   "cell_type": "code",
   "execution_count": 8,
   "metadata": {},
   "outputs": [
    {
     "data": {
      "text/plain": [
       "Text(0.5, 1.0, 'Mismatch Rates for k = 2-40')"
      ]
     },
     "execution_count": 8,
     "metadata": {},
     "output_type": "execute_result"
    },
    {
     "data": {
      "image/png": "[encoded data removed]",
      "text/plain": [
       "<Figure size 432x288 with 1 Axes>"
      ]
     },
     "metadata": {
      "needs_background": "light"
     },
     "output_type": "display_data"
    }
   ],
   "source": [
    "# Plot mismatch rates across range of k values\n",
    "plt.plot(range(2,41), mismatch_rates)\n",
    "plt.title('Mismatch Rates for k = 2-40')"
   ]
  },
  {
   "cell_type": "code",
   "execution_count": 10,
   "metadata": {},
   "outputs": [
    {
     "data": {
      "text/plain": [
       "Text(0.5, 1.05, 'Adjacency Matrix')"
      ]
     },
     "execution_count": 10,
     "metadata": {},
     "output_type": "execute_result"
    },
    {
     "data": {
      "image/png": "[encoded data removed]",
      "text/plain": [
       "<Figure size 432x288 with 1 Axes>"
      ]
     },
     "metadata": {
      "needs_background": "light"
     },
     "output_type": "display_data"
    }
   ],
   "source": [
    "# Plot adjacency matrix\n",
    "plt.spy(A)\n",
    "plt.title('Adjacency Matrix')"
   ]
  }
 ],
 "metadata": {
  "kernelspec": {
   "display_name": "Python 3",
   "language": "python",
   "name": "python3"
  },
  "language_info": {
   "codemirror_mode": {
    "name": "ipython",
    "version": 3
   },
   "file_extension": ".py",
   "mimetype": "text/x-python",
   "name": "python",
   "nbconvert_exporter": "python",
   "pygments_lexer": "ipython3",
   "version": "3.8.3"
  }
 },
 "nbformat": 4,
 "nbformat_minor": 4
}
