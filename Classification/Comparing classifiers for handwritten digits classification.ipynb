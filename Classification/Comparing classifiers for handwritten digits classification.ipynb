{
 "cells": [
  {
   "cell_type": "code",
   "execution_count": 11,
   "metadata": {},
   "outputs": [],
   "source": [
    "import numpy as np\n",
    "import matplotlib.pyplot as plt\n",
    "import random\n",
    "import scipy.io as sio\n",
    "from sklearn.neural_network import MLPClassifier\n",
    "from sklearn.neighbors import KNeighborsClassifier\n",
    "from sklearn.svm import SVC\n",
    "from sklearn.linear_model import LogisticRegression\n",
    "from sklearn.metrics import confusion_matrix, classification_report"
   ]
  },
  {
   "cell_type": "code",
   "execution_count": 2,
   "metadata": {},
   "outputs": [],
   "source": [
    "data = sio.loadmat('mnist_10digits.mat')\n",
    "X_train = data['xtrain']/255\n",
    "y_train = data['ytrain'][0]\n",
    "X_test = data['xtest']/255\n",
    "y_test = data['ytest'][0]"
   ]
  },
  {
   "cell_type": "code",
   "execution_count": 3,
   "metadata": {},
   "outputs": [
    {
     "data": {
      "text/plain": [
       "(10000, 784)"
      ]
     },
     "execution_count": 3,
     "metadata": {},
     "output_type": "execute_result"
    }
   ],
   "source": [
    "X_test.shape"
   ]
  },
  {
   "cell_type": "markdown",
   "metadata": {},
   "source": [
    "* Compare KNN, LR, SVM, kernel SVM, and neural net \n",
    "* Use downsampled data set for KNN and SVM (m = 5000) for improved computation efficiency\n",
    "* Report confusion matrix, precision, recall, and F1 score for each classifier\n",
    "* Precision$= \\frac{TP}{TP + FP}$\n",
    "* Recall$= \\frac{TP}{TP + FN}$\n",
    "* F1 score$= \\frac{2}{precision^{-1}+recall^{-1}}$"
   ]
  },
  {
   "cell_type": "code",
   "execution_count": 4,
   "metadata": {},
   "outputs": [],
   "source": [
    "# Downsample training data to m = 5000\n",
    "samples = random.sample(range(X_train.shape[0]), 5000)\n",
    "X_train_5k, y_train_5k = X_train[samples,:], y_train[samples]"
   ]
  },
  {
   "cell_type": "code",
   "execution_count": 5,
   "metadata": {},
   "outputs": [
    {
     "data": {
      "text/plain": [
       "array([3, 4, 3, ..., 5, 7, 2], dtype=int64)"
      ]
     },
     "execution_count": 5,
     "metadata": {},
     "output_type": "execute_result"
    }
   ],
   "source": [
    "y_train_5k"
   ]
  },
  {
   "cell_type": "code",
   "execution_count": 6,
   "metadata": {},
   "outputs": [],
   "source": [
    "# KNN\n",
    "# Test run\n",
    "KNN = KNeighborsClassifier(5).fit(X_train_5k,y_train_5k)\n",
    "KNN_score = KNN.score(X_test,y_test)"
   ]
  },
  {
   "cell_type": "code",
   "execution_count": 7,
   "metadata": {
    "scrolled": true
   },
   "outputs": [
    {
     "data": {
      "text/plain": [
       "0.9379"
      ]
     },
     "execution_count": 7,
     "metadata": {},
     "output_type": "execute_result"
    }
   ],
   "source": [
    "KNN_score"
   ]
  },
  {
   "cell_type": "code",
   "execution_count": 12,
   "metadata": {
    "scrolled": true
   },
   "outputs": [
    {
     "name": "stdout",
     "output_type": "stream",
     "text": [
      "1\n",
      "2\n",
      "3\n",
      "4\n",
      "5\n",
      "6\n",
      "7\n",
      "8\n",
      "9\n",
      "10\n"
     ]
    },
    {
     "data": {
      "text/plain": [
       "[<matplotlib.lines.Line2D at 0x228d45dd3c8>]"
      ]
     },
     "execution_count": 12,
     "metadata": {},
     "output_type": "execute_result"
    },
    {
     "data": {
      "image/png": "[encoded data removed]",
      "text/plain": [
       "<Figure size 432x288 with 1 Axes>"
      ]
     },
     "metadata": {
      "needs_background": "light"
     },
     "output_type": "display_data"
    }
   ],
   "source": [
    "# Downsample training data to m = 5000\n",
    "samples = random.sample(range(X_train.shape[0]), 5000)\n",
    "X_train_5k, y_train_5k = X_train[samples,:], y_train[samples]\n",
    "# Find best number of neighbors\n",
    "scores = []\n",
    "for k in range(1,11):\n",
    "    print(k)\n",
    "    score = KNeighborsClassifier(k).fit(X_train_5k,y_train_5k).score(X_test,y_test)\n",
    "    scores.append(score)\n",
    "plt.plot(range(1,11), scores) # Looks like k=3 is the best"
   ]
  },
  {
   "cell_type": "code",
   "execution_count": 13,
   "metadata": {
    "scrolled": false
   },
   "outputs": [
    {
     "data": {
      "text/plain": [
       "array([[ 967,    1,    1,    0,    0,    3,    7,    1,    0,    0],\n",
       "       [   0, 1130,    2,    1,    0,    0,    2,    0,    0,    0],\n",
       "       [  26,   32,  937,    8,    1,    0,    4,   21,    3,    0],\n",
       "       [   2,    6,    8,  953,    1,   18,    1,    7,    8,    6],\n",
       "       [   2,   22,    1,    0,  889,    0,    7,    2,    0,   59],\n",
       "       [   8,   10,    1,   37,    3,  803,    9,    3,    8,   10],\n",
       "       [  10,    5,    0,    1,    3,    3,  935,    0,    1,    0],\n",
       "       [   0,   39,    7,    0,    6,    0,    0,  948,    0,   28],\n",
       "       [  12,   10,   13,   26,   11,   35,    2,   12,  843,   10],\n",
       "       [  13,    6,    4,    9,   16,    4,    1,   16,    1,  939]],\n",
       "      dtype=int64)"
      ]
     },
     "execution_count": 13,
     "metadata": {},
     "output_type": "execute_result"
    }
   ],
   "source": [
    "KNN = KNeighborsClassifier(3).fit(X_train_5k,y_train_5k)\n",
    "confusion_matrix(y_test,KNN.predict(X_test))"
   ]
  },
  {
   "cell_type": "code",
   "execution_count": 75,
   "metadata": {},
   "outputs": [
    {
     "name": "stdout",
     "output_type": "stream",
     "text": [
      "              precision    recall  f1-score   support\n",
      "\n",
      "           0       0.93      0.99      0.96       980\n",
      "           1       0.90      1.00      0.94      1135\n",
      "           2       0.96      0.91      0.93      1032\n",
      "           3       0.92      0.94      0.93      1010\n",
      "           4       0.96      0.91      0.93       982\n",
      "           5       0.93      0.90      0.91       892\n",
      "           6       0.97      0.98      0.97       958\n",
      "           7       0.94      0.92      0.93      1028\n",
      "           8       0.98      0.87      0.92       974\n",
      "           9       0.89      0.93      0.91      1009\n",
      "\n",
      "    accuracy                           0.93     10000\n",
      "   macro avg       0.94      0.93      0.93     10000\n",
      "weighted avg       0.94      0.93      0.93     10000\n",
      "\n"
     ]
    }
   ],
   "source": [
    "print(classification_report(y_test,KNN.predict(X_test)))"
   ]
  },
  {
   "cell_type": "code",
   "execution_count": 15,
   "metadata": {},
   "outputs": [],
   "source": [
    "# Linear SVM\n",
    "# Test run\n",
    "lSVM = SVC(kernel='linear', C=0.025).fit(X_train_5k,y_train_5k)\n",
    "lSVM_score = lSVM.score(X_test,y_test)"
   ]
  },
  {
   "cell_type": "code",
   "execution_count": 52,
   "metadata": {},
   "outputs": [
    {
     "data": {
      "text/plain": [
       "array([[ 963,    0,    3,    1,    0,    3,    6,    1,    3,    0],\n",
       "       [   0, 1116,    1,    3,    1,    3,    3,    0,    8,    0],\n",
       "       [  10,    4,  944,   18,   15,    0,    9,   13,   17,    2],\n",
       "       [   1,    2,   15,  927,    1,   27,    3,   11,   17,    6],\n",
       "       [   1,    2,   10,    1,  908,    2,    9,    1,    2,   46],\n",
       "       [   8,    9,    7,   51,    7,  767,   16,    4,   18,    5],\n",
       "       [   9,    3,    6,    0,    5,   11,  919,    2,    3,    0],\n",
       "       [   2,   13,   20,    4,    8,    2,    0,  943,    6,   30],\n",
       "       [   8,    9,   14,   29,    7,   32,   10,    6,  847,   12],\n",
       "       [  12,    4,    3,   12,   38,    6,    1,   23,    8,  902]],\n",
       "      dtype=int64)"
      ]
     },
     "execution_count": 52,
     "metadata": {},
     "output_type": "execute_result"
    }
   ],
   "source": [
    "confusion_matrix(y_test, lSVM.predict(X_test))"
   ]
  },
  {
   "cell_type": "code",
   "execution_count": 53,
   "metadata": {},
   "outputs": [
    {
     "name": "stdout",
     "output_type": "stream",
     "text": [
      "              precision    recall  f1-score   support\n",
      "\n",
      "           0       0.95      0.98      0.97       980\n",
      "           1       0.96      0.98      0.97      1135\n",
      "           2       0.92      0.91      0.92      1032\n",
      "           3       0.89      0.92      0.90      1010\n",
      "           4       0.92      0.92      0.92       982\n",
      "           5       0.90      0.86      0.88       892\n",
      "           6       0.94      0.96      0.95       958\n",
      "           7       0.94      0.92      0.93      1028\n",
      "           8       0.91      0.87      0.89       974\n",
      "           9       0.90      0.89      0.90      1009\n",
      "\n",
      "    accuracy                           0.92     10000\n",
      "   macro avg       0.92      0.92      0.92     10000\n",
      "weighted avg       0.92      0.92      0.92     10000\n",
      "\n"
     ]
    }
   ],
   "source": [
    "print(classification_report(y_test, lSVM.predict(X_test)))"
   ]
  },
  {
   "cell_type": "code",
   "execution_count": 41,
   "metadata": {},
   "outputs": [
    {
     "data": {
      "text/plain": [
       "array([1.00000000e-04, 3.59381366e-04, 1.29154967e-03, 4.64158883e-03,\n",
       "       1.66810054e-02, 5.99484250e-02, 2.15443469e-01, 7.74263683e-01,\n",
       "       2.78255940e+00, 1.00000000e+01])"
      ]
     },
     "execution_count": 41,
     "metadata": {},
     "output_type": "execute_result"
    }
   ],
   "source": [
    "np.logspace(-4, 1, 10)"
   ]
  },
  {
   "cell_type": "code",
   "execution_count": 49,
   "metadata": {},
   "outputs": [
    {
     "name": "stdout",
     "output_type": "stream",
     "text": [
      "0.01\n",
      "0.011364636663857248\n",
      "0.01291549665014884\n",
      "0.014677992676220698\n",
      "0.016681005372000592\n",
      "0.018957356524063752\n",
      "0.021544346900318832\n",
      "0.024484367468222266\n",
      "0.027825594022071243\n",
      "0.03162277660168379\n"
     ]
    },
    {
     "data": {
      "text/plain": [
       "[<matplotlib.lines.Line2D at 0x22881fccb08>]"
      ]
     },
     "execution_count": 49,
     "metadata": {},
     "output_type": "execute_result"
    },
    {
     "data": {
      "image/png": "[encoded data removed]",
      "text/plain": [
       "<Figure size 432x288 with 1 Axes>"
      ]
     },
     "metadata": {
      "needs_background": "light"
     },
     "output_type": "display_data"
    }
   ],
   "source": [
    "# Downsample training data to m = 5000\n",
    "samples = random.sample(range(X_train.shape[0]), 5000)\n",
    "X_train_5k, y_train_5k = X_train[samples,:], y_train[samples]\n",
    "# Find best value of C\n",
    "C = np.logspace(-2, -1.5, 10)\n",
    "scores = []\n",
    "for i in C:\n",
    "    print(i)\n",
    "    score = SVC(kernel='linear', C=i).fit(X_train_5k,y_train_5k).score(X_test,y_test)\n",
    "    scores.append(score)\n",
    "plt.plot(C, scores) # Best value: C = 0.025"
   ]
  },
  {
   "cell_type": "code",
   "execution_count": 50,
   "metadata": {
    "scrolled": true
   },
   "outputs": [
    {
     "data": {
      "text/plain": [
       "[<matplotlib.lines.Line2D at 0x22880177d88>]"
      ]
     },
     "execution_count": 50,
     "metadata": {},
     "output_type": "execute_result"
    },
    {
     "data": {
      "image/png": "[encoded data removed]",
      "text/plain": [
       "<Figure size 432x288 with 1 Axes>"
      ]
     },
     "metadata": {
      "needs_background": "light"
     },
     "output_type": "display_data"
    }
   ],
   "source": [
    "plt.plot(np.log(C),scores)"
   ]
  },
  {
   "cell_type": "code",
   "execution_count": 51,
   "metadata": {},
   "outputs": [
    {
     "data": {
      "text/plain": [
       "[0.9229, 0.9239, 0.9244, 0.9246, 0.925, 0.9252, 0.9261, 0.9266, 0.9253, 0.9251]"
      ]
     },
     "execution_count": 51,
     "metadata": {},
     "output_type": "execute_result"
    }
   ],
   "source": [
    "scores"
   ]
  },
  {
   "cell_type": "code",
   "execution_count": 25,
   "metadata": {},
   "outputs": [],
   "source": [
    "# Kernel SVM\n",
    "# Test run\n",
    "rbfSVM = SVC(gamma=2, C=1).fit(X_train_5k,y_train_5k)\n",
    "rbfSVM_score = rbfSVM.score(X_test,y_test)"
   ]
  },
  {
   "cell_type": "code",
   "execution_count": 79,
   "metadata": {
    "scrolled": true
   },
   "outputs": [
    {
     "name": "stdout",
     "output_type": "stream",
     "text": [
      "0\n",
      "1\n",
      "2\n",
      "3\n",
      "4\n",
      "5\n",
      "6\n",
      "7\n",
      "8\n",
      "9\n"
     ]
    },
    {
     "data": {
      "text/plain": [
       "[<matplotlib.lines.Line2D at 0x228819d0b08>]"
      ]
     },
     "execution_count": 79,
     "metadata": {},
     "output_type": "execute_result"
    },
    {
     "data": {
      "image/png": "[encoded data removed]",
      "text/plain": [
       "<Figure size 432x288 with 1 Axes>"
      ]
     },
     "metadata": {
      "needs_background": "light"
     },
     "output_type": "display_data"
    }
   ],
   "source": [
    "# Downsample training data to m = 5000\n",
    "samples = random.sample(range(X_train.shape[0]), 5000)\n",
    "X_train_5k, y_train_5k = X_train[samples,:], y_train[samples]\n",
    "# Find best combination of gamma/C\n",
    "CC, gg = np.meshgrid(np.logspace(0, 3, 10), 0.02154435)\n",
    "combos = np.c_[CC.ravel(), gg.ravel()]\n",
    "scores = []\n",
    "for i in range(combos.shape[0]):\n",
    "    print(i)\n",
    "    score = SVC(gamma = combos[i,1], C = combos[i,0]).fit(X_train_5k,y_train_5k).score(X_test,y_test)\n",
    "    scores.append(score)\n",
    "plt.plot(range(combos.shape[0]),scores) # Best values: "
   ]
  },
  {
   "cell_type": "code",
   "execution_count": 82,
   "metadata": {
    "scrolled": true
   },
   "outputs": [
    {
     "data": {
      "text/plain": [
       "array([[1.00000000e+00, 2.15443500e-02],\n",
       "       [2.15443469e+00, 2.15443500e-02],\n",
       "       [4.64158883e+00, 2.15443500e-02],\n",
       "       [1.00000000e+01, 2.15443500e-02],\n",
       "       [2.15443469e+01, 2.15443500e-02],\n",
       "       [4.64158883e+01, 2.15443500e-02],\n",
       "       [1.00000000e+02, 2.15443500e-02],\n",
       "       [2.15443469e+02, 2.15443500e-02],\n",
       "       [4.64158883e+02, 2.15443500e-02],\n",
       "       [1.00000000e+03, 2.15443500e-02]])"
      ]
     },
     "execution_count": 82,
     "metadata": {},
     "output_type": "execute_result"
    }
   ],
   "source": [
    "combos"
   ]
  },
  {
   "cell_type": "code",
   "execution_count": 83,
   "metadata": {},
   "outputs": [
    {
     "data": {
      "text/plain": [
       "array([[ 970,    0,    1,    0,    0,    3,    3,    1,    2,    0],\n",
       "       [   0, 1123,    3,    1,    0,    1,    3,    1,    3,    0],\n",
       "       [   5,    1,  991,    7,    2,    2,    3,   10,    9,    2],\n",
       "       [   0,    0,    7,  974,    0,   10,    0,    7,   10,    2],\n",
       "       [   2,    0,    5,    0,  946,    0,    6,    1,    2,   20],\n",
       "       [   6,    1,    3,   17,    3,  849,    6,    1,    4,    2],\n",
       "       [   8,    3,    1,    0,    3,    8,  933,    0,    2,    0],\n",
       "       [   0,   12,   19,    1,    7,    1,    0,  972,    3,   13],\n",
       "       [   6,    0,    4,    5,    5,    8,    2,    4,  938,    2],\n",
       "       [   5,    6,    2,    4,   20,    7,    1,    7,    9,  948]],\n",
       "      dtype=int64)"
      ]
     },
     "execution_count": 83,
     "metadata": {},
     "output_type": "execute_result"
    }
   ],
   "source": [
    "rbfSVM = SVC(gamma=0.0215, C=10).fit(X_train_5k,y_train_5k)\n",
    "confusion_matrix(y_test,rbfSVM.predict(X_test))"
   ]
  },
  {
   "cell_type": "code",
   "execution_count": 84,
   "metadata": {},
   "outputs": [
    {
     "name": "stdout",
     "output_type": "stream",
     "text": [
      "              precision    recall  f1-score   support\n",
      "\n",
      "           0       0.97      0.99      0.98       980\n",
      "           1       0.98      0.99      0.98      1135\n",
      "           2       0.96      0.96      0.96      1032\n",
      "           3       0.97      0.96      0.96      1010\n",
      "           4       0.96      0.96      0.96       982\n",
      "           5       0.96      0.95      0.95       892\n",
      "           6       0.97      0.97      0.97       958\n",
      "           7       0.97      0.95      0.96      1028\n",
      "           8       0.96      0.96      0.96       974\n",
      "           9       0.96      0.94      0.95      1009\n",
      "\n",
      "    accuracy                           0.96     10000\n",
      "   macro avg       0.96      0.96      0.96     10000\n",
      "weighted avg       0.96      0.96      0.96     10000\n",
      "\n"
     ]
    }
   ],
   "source": [
    "print(classification_report(y_test,rbfSVM.predict(X_test)))"
   ]
  },
  {
   "cell_type": "code",
   "execution_count": 27,
   "metadata": {},
   "outputs": [
    {
     "name": "stderr",
     "output_type": "stream",
     "text": [
      "E:\\ProgramData\\Anaconda3\\lib\\site-packages\\sklearn\\linear_model\\logistic.py:432: FutureWarning: Default solver will be changed to 'lbfgs' in 0.22. Specify a solver to silence this warning.\n",
      "  FutureWarning)\n",
      "E:\\ProgramData\\Anaconda3\\lib\\site-packages\\sklearn\\linear_model\\logistic.py:469: FutureWarning: Default multi_class will be changed to 'auto' in 0.22. Specify the multi_class option to silence this warning.\n",
      "  \"this warning.\", FutureWarning)\n"
     ]
    },
    {
     "data": {
      "text/plain": [
       "array([[ 960,    0,    1,    2,    0,    5,    6,    3,    1,    2],\n",
       "       [   0, 1112,    3,    1,    0,    1,    5,    1,   12,    0],\n",
       "       [   8,    8,  920,   20,    9,    5,   10,   11,   37,    4],\n",
       "       [   4,    0,   17,  919,    2,   22,    4,   12,   21,    9],\n",
       "       [   1,    2,    5,    3,  914,    0,   10,    2,    7,   38],\n",
       "       [  10,    2,    0,   42,   10,  769,   17,    7,   28,    7],\n",
       "       [   9,    3,    7,    2,    6,   20,  907,    1,    3,    0],\n",
       "       [   2,    7,   22,    5,    8,    1,    1,  950,    5,   27],\n",
       "       [  10,   14,    5,   21,   14,   27,    7,   11,  853,   12],\n",
       "       [   8,    8,    2,   13,   31,   14,    0,   24,   12,  897]],\n",
       "      dtype=int64)"
      ]
     },
     "execution_count": 27,
     "metadata": {},
     "output_type": "execute_result"
    }
   ],
   "source": [
    "# Logistic regression\n",
    "LR = LogisticRegression(max_iter=200).fit(X_train,y_train)\n",
    "confusion_matrix(y_test,LR.predict(X_test))"
   ]
  },
  {
   "cell_type": "code",
   "execution_count": 31,
   "metadata": {},
   "outputs": [],
   "source": [
    "LR_cr = classification_report(y_test,LR.predict(X_test))"
   ]
  },
  {
   "cell_type": "code",
   "execution_count": 35,
   "metadata": {},
   "outputs": [
    {
     "name": "stdout",
     "output_type": "stream",
     "text": [
      "              precision    recall  f1-score   support\n",
      "\n",
      "           0       0.95      0.98      0.96       980\n",
      "           1       0.96      0.98      0.97      1135\n",
      "           2       0.94      0.89      0.91      1032\n",
      "           3       0.89      0.91      0.90      1010\n",
      "           4       0.92      0.93      0.93       982\n",
      "           5       0.89      0.86      0.88       892\n",
      "           6       0.94      0.95      0.94       958\n",
      "           7       0.93      0.92      0.93      1028\n",
      "           8       0.87      0.88      0.87       974\n",
      "           9       0.90      0.89      0.89      1009\n",
      "\n",
      "    accuracy                           0.92     10000\n",
      "   macro avg       0.92      0.92      0.92     10000\n",
      "weighted avg       0.92      0.92      0.92     10000\n",
      "\n"
     ]
    }
   ],
   "source": [
    "print(LR_cr)"
   ]
  },
  {
   "cell_type": "code",
   "execution_count": 29,
   "metadata": {},
   "outputs": [
    {
     "data": {
      "text/plain": [
       "array([[ 957,    0,    0,    2,    2,    3,    6,    5,    2,    3],\n",
       "       [   0, 1112,    5,    2,    0,    2,    4,    4,    6,    0],\n",
       "       [   9,    7,  981,    5,    5,    1,    5,    9,    8,    2],\n",
       "       [   1,    3,    8,  955,    2,   14,    0,    7,   10,   10],\n",
       "       [   0,    0,    3,    2,  931,    1,   14,    5,    4,   22],\n",
       "       [  15,    1,    0,   19,    7,  817,    8,    5,   12,    8],\n",
       "       [   8,    1,    9,    1,    8,    7,  918,    0,    4,    2],\n",
       "       [   1,    4,   15,    7,    4,    2,    0,  979,    4,   12],\n",
       "       [  11,    2,    8,   16,   12,    6,    6,    5,  901,    7],\n",
       "       [   6,    3,    1,    9,   24,    4,    2,   16,    7,  937]],\n",
       "      dtype=int64)"
      ]
     },
     "execution_count": 29,
     "metadata": {},
     "output_type": "execute_result"
    }
   ],
   "source": [
    "# Neural network\n",
    "MLP = MLPClassifier(hidden_layer_sizes=(20,10), max_iter=10000).fit(X_train,y_train)\n",
    "confusion_matrix(y_test,MLP.predict(X_test))"
   ]
  },
  {
   "cell_type": "code",
   "execution_count": 36,
   "metadata": {},
   "outputs": [
    {
     "name": "stdout",
     "output_type": "stream",
     "text": [
      "              precision    recall  f1-score   support\n",
      "\n",
      "           0       0.95      0.98      0.96       980\n",
      "           1       0.98      0.98      0.98      1135\n",
      "           2       0.95      0.95      0.95      1032\n",
      "           3       0.94      0.95      0.94      1010\n",
      "           4       0.94      0.95      0.94       982\n",
      "           5       0.95      0.92      0.93       892\n",
      "           6       0.95      0.96      0.96       958\n",
      "           7       0.95      0.95      0.95      1028\n",
      "           8       0.94      0.93      0.93       974\n",
      "           9       0.93      0.93      0.93      1009\n",
      "\n",
      "    accuracy                           0.95     10000\n",
      "   macro avg       0.95      0.95      0.95     10000\n",
      "weighted avg       0.95      0.95      0.95     10000\n",
      "\n"
     ]
    }
   ],
   "source": [
    "print(classification_report(y_test,MLP.predict(X_test)))"
   ]
  },
  {
   "cell_type": "code",
   "execution_count": null,
   "metadata": {},
   "outputs": [],
   "source": []
  }
 ],
 "metadata": {
  "kernelspec": {
   "display_name": "Python 3",
   "language": "python",
   "name": "python3"
  },
  "language_info": {
   "codemirror_mode": {
    "name": "ipython",
    "version": 3
   },
   "file_extension": ".py",
   "mimetype": "text/x-python",
   "name": "python",
   "nbconvert_exporter": "python",
   "pygments_lexer": "ipython3",
   "version": "3.8.3"
  }
 },
 "nbformat": 4,
 "nbformat_minor": 4
}
